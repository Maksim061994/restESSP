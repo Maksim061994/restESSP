{
 "cells": [
  {
   "cell_type": "code",
   "execution_count": 115,
   "metadata": {},
   "outputs": [
    {
     "name": "stderr",
     "output_type": "stream",
     "text": [
      "[nltk_data] Downloading package stopwords to\n",
      "[nltk_data]     /Users/maxkulagin/nltk_data...\n",
      "[nltk_data]   Package stopwords is already up-to-date!\n",
      "[nltk_data] Downloading package punkt to\n",
      "[nltk_data]     /Users/maxkulagin/nltk_data...\n",
      "[nltk_data]   Package punkt is already up-to-date!\n"
     ]
    }
   ],
   "source": [
    "# Load libraries\n",
    "from mlxtend.plotting import plot_confusion_matrix\n",
    "from mlxtend.evaluate import confusion_matrix\n",
    "import matplotlib.pyplot as plt\n",
    "import pandas as pd\n",
    "import numpy as np\n",
    "import itertools\n",
    "import string\n",
    "import pickle\n",
    "\n",
    "from keras.layers import Dense, Embedding, Dropout, LSTM, SpatialDropout1D, MaxPooling1D, GlobalMaxPool1D, GlobalMaxPooling1D, Bidirectional, Conv1D\n",
    "from keras.preprocessing.sequence import pad_sequences\n",
    "from keras.utils.np_utils import to_categorical\n",
    "from keras.preprocessing.text import Tokenizer\n",
    "from keras.initializers import glorot_uniform\n",
    "from keras.models import Sequential, Model\n",
    "from keras.preprocessing import sequence\n",
    "from keras.optimizers import RMSprop\n",
    "from keras import regularizers\n",
    "\n",
    "\n",
    "from sklearn.feature_extraction.text import CountVectorizer, TfidfVectorizer\n",
    "from sklearn.model_selection import train_test_split\n",
    "from sklearn.metrics import classification_report\n",
    "from sklearn.utils import class_weight\n",
    "from sklearn.externals import joblib\n",
    "from sklearn.metrics import f1_score\n",
    "from sklearn import preprocessing\n",
    "\n",
    "\n",
    "from nltk.tokenize import word_tokenize\n",
    "from nltk.corpus import stopwords\n",
    "import nltk\n",
    "nltk.download(\"stopwords\")\n",
    "nltk.download('punkt')\n",
    "\n",
    "import warnings\n",
    "warnings.filterwarnings('ignore')"
   ]
  },
  {
   "cell_type": "code",
   "execution_count": 91,
   "metadata": {},
   "outputs": [],
   "source": [
    "def process_text(text):\n",
    "    # Function processing text for Word2Vec\n",
    "    tokens = word_tokenize(text.lower())\n",
    "    # delete punctuation\n",
    "    table = str.maketrans('', '', string.punctuation)\n",
    "    words_without_punct = [w.translate(table) for w in tokens]\n",
    "    # delete all except text\n",
    "    words = [word for word in words_without_punct if word.isalpha()]\n",
    "    # delete stopwords\n",
    "    stop_words = set(stopwords.words('russian'))\n",
    "    words_without_stop_words = [w for w in words if not w in stop_words]\n",
    "    return ' '.join(words_without_stop_words)\n",
    "\n",
    "\n",
    "def create_datasets(data):\n",
    "    list_train = []\n",
    "    for i in range(data.shape[0]):\n",
    "        text = data.iloc[i, 0]\n",
    "        result = text.split('Описание обращения:')\n",
    "        result_text = result[0].split('Дополнительные параметры:')[0]\n",
    "        if len(result) == 2:\n",
    "            result_text = result[1].split('Дополнительные параметры:')[0]\n",
    "        preproc_text = process_text(result_text)\n",
    "        list_train.append(preproc_text)\n",
    "    return list_train"
   ]
  },
  {
   "cell_type": "code",
   "execution_count": 5,
   "metadata": {},
   "outputs": [],
   "source": [
    "data = pd.read_excel('./new_data/Анализ запросов 2018 полный.xlsx')\n",
    "data = data[['ПОДРОБНОЕ_ОПИСАНИЕ', 'код ']]\n",
    "data.columns = ['requests', 'label']\n",
    "data.label = data.label.astype(str)"
   ]
  },
  {
   "cell_type": "code",
   "execution_count": 248,
   "metadata": {},
   "outputs": [
    {
     "data": {
      "text/plain": [
       "(18460, 3)"
      ]
     },
     "execution_count": 248,
     "metadata": {},
     "output_type": "execute_result"
    }
   ],
   "source": [
    "data.shape"
   ]
  },
  {
   "cell_type": "code",
   "execution_count": 15,
   "metadata": {
    "scrolled": true
   },
   "outputs": [],
   "source": [
    "data1 = pd.read_excel('./new_data/Часть 2.xlsx')\n",
    "data1.columns = ['№', 'Подробное описание', 'Самостоятельность', 'I уровень класс',\n",
    "       'I уровень вероятность', 'I уровень корректность', 'II уровень класс',\n",
    "       'II уровень вероятность', 'II уровень корректность',\n",
    "       'III уровень класс',\n",
    "       'III уровень вероятность', 'III уровень корректность', 'IV уровень класс',\n",
    "       'IV уровень вероятность', 'IV уровень корректность', 'Unnamed: 15', 'Unnamed: 16',\n",
    "       'Unnamed: 17', 'Unnamed: 18', 'Unnamed: 19', 'Unnamed: 20',\n",
    "       'Unnamed: 21', 'Unnamed: 22', 'Unnamed: 23']\n",
    "data1 = data1.iloc[1:, :-9]"
   ]
  },
  {
   "cell_type": "code",
   "execution_count": 247,
   "metadata": {},
   "outputs": [
    {
     "data": {
      "text/plain": [
       "(9340, 15)"
      ]
     },
     "execution_count": 247,
     "metadata": {},
     "output_type": "execute_result"
    }
   ],
   "source": [
    "data1.shape"
   ]
  },
  {
   "cell_type": "code",
   "execution_count": 75,
   "metadata": {
    "scrolled": true
   },
   "outputs": [],
   "source": [
    "level_1 = data1[['Подробное описание', 'I уровень класс', 'I уровень корректность']].dropna()\n",
    "level_2 = data1[['Подробное описание', 'II уровень класс', 'II уровень корректность']].dropna()\n",
    "level_1['I уровень корректность'] = level_1['I уровень корректность'].apply(lambda x: str(x).strip())\n",
    "level_1 = level_1[level_1['I уровень корректность'] == '+'].iloc[:, :2]\n",
    "level_1['Подробное описание'] = level_1['Подробное описание'].apply(process_text)"
   ]
  },
  {
   "cell_type": "code",
   "execution_count": 146,
   "metadata": {},
   "outputs": [],
   "source": [
    "level_2['II уровень корректность'] = level_2['II уровень корректность'].apply(lambda x: str(x).strip())\n",
    "level_2 = level_2[level_2['II уровень корректность'] == '+'].iloc[:, :2]\n",
    "level_2['Подробное описание'] = level_2['Подробное описание'].apply(process_text)"
   ]
  },
  {
   "cell_type": "code",
   "execution_count": null,
   "metadata": {},
   "outputs": [],
   "source": []
  },
  {
   "cell_type": "code",
   "execution_count": 231,
   "metadata": {},
   "outputs": [
    {
     "data": {
      "text/plain": [
       "'могу завести контр лист ст кедроваясибирская'"
      ]
     },
     "execution_count": 231,
     "metadata": {},
     "output_type": "execute_result"
    }
   ],
   "source": [
    "level_2.iloc[0][0]"
   ]
  },
  {
   "cell_type": "code",
   "execution_count": null,
   "metadata": {},
   "outputs": [],
   "source": [
    "level_2"
   ]
  },
  {
   "cell_type": "code",
   "execution_count": 49,
   "metadata": {},
   "outputs": [],
   "source": []
  },
  {
   "cell_type": "code",
   "execution_count": 327,
   "metadata": {},
   "outputs": [],
   "source": [
    "requests = create_datasets(data)\n",
    "data['requests'] = requests"
   ]
  },
  {
   "cell_type": "code",
   "execution_count": 328,
   "metadata": {},
   "outputs": [],
   "source": [
    "def convert(texts, word2idx, max_text_len):\n",
    "    data = np.zeros((len(texts), max_text_len), dtype=np.int)\n",
    "    for i in range(len(texts)):\n",
    "        string = texts[i].split()\n",
    "        for j in range(len(string)):\n",
    "            if (string[j] in word2idx) and (j < max_text_len):\n",
    "                data[i,j] = word2idx[string[j]]\n",
    "    return data\n",
    "\n",
    "def get_train_test_data(data, num_class, max_features=1000, max_len=64):\n",
    "    le = preprocessing.LabelEncoder()\n",
    "    new_terget = le.fit_transform(data.target)\n",
    "    categorical_target = to_categorical(new_terget, num_classes = num_class)\n",
    "    countUnique = np.unique(categorical_target.argmax(axis=1), return_counts=True)[1]\n",
    "    classWeights = 1 - (countUnique / sum(countUnique))\n",
    "    classWeights = dict(zip(range(len(classWeights)), classWeights))\n",
    "    X_train, X_test, y_train, y_test = train_test_split(data.text, categorical_target, test_size=0.3)\n",
    "    # Tokenization and encoding text corpus\n",
    "    tk = Tokenizer(num_words=max_features)\n",
    "    tk.fit_on_texts(X_train)\n",
    "    # dictionaries\n",
    "    word2index = tk.word_index\n",
    "    X_train_convert = convert(X_train.values, word2index, max_len)\n",
    "    X_test_convert = convert(X_test.values, word2index, max_len)\n",
    "    return X_train_convert, X_test_convert, y_train, y_test, word2index, le, classWeights"
   ]
  },
  {
   "cell_type": "code",
   "execution_count": 329,
   "metadata": {},
   "outputs": [],
   "source": [
    "def get_data(data, max_features=1000, max_len=64):\n",
    "    # Tokenization and encoding text corpus\n",
    "    tk = Tokenizer(num_words=max_features)\n",
    "    tk.fit_on_texts(data)\n",
    "    # dictionaries\n",
    "    word2index = tk.word_index\n",
    "    result = convert(data.values, word2index, max_len)\n",
    "    return result"
   ]
  },
  {
   "cell_type": "code",
   "execution_count": 334,
   "metadata": {},
   "outputs": [],
   "source": [
    "def plot_confusion_matrix(cm, classes,\n",
    "                          normalize=False,\n",
    "                          title='Confusion matrix',\n",
    "                          cmap=plt.cm.Blues):\n",
    "    \"\"\"\n",
    "    This function prints and plots the confusion matrix.\n",
    "    Normalization can be applied by setting `normalize=True`.\n",
    "    \"\"\"\n",
    "    if normalize:\n",
    "        cm = cm.astype('float') / cm.sum(axis=1)[:, np.newaxis]\n",
    "        print(\"Normalized confusion matrix\")\n",
    "    else:\n",
    "        print('Confusion matrix, without normalization')\n",
    "    plt.imshow(cm, interpolation='nearest', cmap=cmap)\n",
    "    plt.title(title)\n",
    "    plt.colorbar()\n",
    "    tick_marks = np.arange(len(classes))\n",
    "    plt.xticks(tick_marks, classes)\n",
    "    plt.yticks(tick_marks, classes)\n",
    "\n",
    "    fmt = '.2f' if normalize else 'd'\n",
    "    thresh = cm.max() / 2.\n",
    "    for i, j in itertools.product(range(cm.shape[0]), range(cm.shape[1])):\n",
    "        plt.text(j, i, format(cm[i, j], fmt),\n",
    "                 horizontalalignment=\"center\",\n",
    "                 color=\"white\" if cm[i, j] > thresh else \"black\")\n",
    "\n",
    "    plt.ylabel('Истинный класс')\n",
    "    plt.xlabel('Предсказанный класс')\n",
    "    plt.tight_layout()\n",
    "    \n",
    "def result_metrics_nn(predict_cls_transform, y_test_ot_fact, name=None, savefile=False):\n",
    "    f1_each_class = dict(zip(['Класс_'+str(i) for i in np.unique(y_test_ot_fact)], \n",
    "                          f1_score(y_test_ot_fact, predict_cls_transform, average=None)))\n",
    "    for key, val in f1_each_class.items():\n",
    "        print(key + ' F1', '=', f1_each_class[key])\n",
    "    print('Средняя F1 для каждого класса =', np.mean(list(f1_each_class.values())))\n",
    "    # Compute confusion matrix\n",
    "    cnf_matrix = confusion_matrix(y_test_ot_fact, predict_cls_transform)\n",
    "    # np.set_printoptions(precision=2)\n",
    "    class_names = np.unique(y_test_ot_fact)\n",
    "    # Plot non-normalized confusion matrix\n",
    "    plt.figure(figsize=(10,10))\n",
    "    plot_confusion_matrix(cnf_matrix, classes=class_names, title='')\n",
    "    if savefile:\n",
    "        plt.savefig(name.split('.png')[0] + '_1.png', dpi=300)\n",
    "\n",
    "    # Plot normalized confusion matrix\n",
    "    plt.figure(figsize=(10,10))\n",
    "    mat = plot_confusion_matrix(cnf_matrix, classes=class_names, normalize=True, title='')\n",
    "    if savefile:\n",
    "        plt.savefig(name.split('.png')[0] + '_2.png', dpi=300)\n",
    "    plt.show()\n",
    "    return cnf_matrix\n",
    "\n",
    "def model_rnn(input_shape, word2index, output_dim=128, num_classes=10):\n",
    "    model = Sequential()\n",
    "    model.add(Embedding(input_dim=len(word2index) + 1, output_dim=output_dim, input_shape=(input_shape,)))\n",
    "    model.add(LSTM(64, return_sequences = True))\n",
    "    model.add(GlobalMaxPool1D())\n",
    "    model.add(Dense(20, activation=\"relu\"))\n",
    "    model.add(Dropout(0.05))\n",
    "    model.add(Dense(num_classes, activation=\"softmax\"))\n",
    "    return model\n",
    "\n",
    "def model_cnn(input_shape, word2index, output_dim=128, num_classes=10):\n",
    "    model = Sequential()\n",
    "    model.add(Embedding(input_dim=len(word2index) + 1, output_dim=output_dim, input_shape=(input_shape,)))\n",
    "    model.add(Conv1D(filters=128, kernel_size=5, padding='valid', activation='relu', strides=2))\n",
    "    model.add(GlobalMaxPooling1D())\n",
    "#     model.add(Dropout(rate=0.1))\n",
    "    model.add(Dense(20, activation=\"relu\"))\n",
    "#     model.add(Dropout(rate=0.8))\n",
    "#     model.add(Dense(50, activation=\"relu\"))\n",
    "#     model.add(Dropout(rate=0.8))\n",
    "#     model.add(Dense(40, activation=\"relu\", kernel_regularizer=regularizers.l2(0.1)))\n",
    "#     model.add(Dropout(rate=0.5))\n",
    "    model.add(Dense(10, activation=\"relu\"))\n",
    "    model.add(Dense(num_classes, activation=\"softmax\"))\n",
    "    return model\n",
    "\n",
    "def trainmodel(data_train, batch_size=128, epochs=10, resize=False, threshold=0.95, save_file=False, name_file=None):\n",
    "    # Process data\n",
    "    labels = [v[0].split('.') for v in data_train.label.str.split(',')]\n",
    "    arrLabel = []\n",
    "    for v in labels:\n",
    "        if len(v) > 2:\n",
    "            arrLabel.append(v[2])\n",
    "        else:\n",
    "            arrLabel.append('ERR')  \n",
    "    data_train['label_second_1'] = pd.Series(arrLabel)\n",
    "    data_train = data_train[(data_train['label_second_1'] != 'ERR') & (data_train['label_second_1'] != '')]\n",
    "    dataTrain = data_train[['requests', 'label_second_1']]\n",
    "    dataTrain.columns = ['text', 'target']\n",
    "    if resize:\n",
    "        validTarget = (dataTrain.target.value_counts() > np.quantile(dataTrain.target.value_counts(), threshold))\n",
    "        validTarget = list(validTarget[validTarget==True].index)\n",
    "        dataTrain = dataTrain[dataTrain.target.isin(validTarget)]\n",
    "    dataTrain = dataTrain.dropna()\n",
    "    dataTrain['target'] = dataTrain.target.astype(int)\n",
    "    numClass = len(dataTrain['target'].unique())\n",
    "    print(dataTrain['target'].value_counts())\n",
    "    X_train, X_test, y_train, y_test, word2index, le, class_weights = get_train_test_data(dataTrain, numClass)\n",
    "    # Train model\n",
    "    model = model_cnn(X_train.shape[1], word2index, output_dim=128, num_classes=numClass)\n",
    "    model.compile(loss='categorical_crossentropy', optimizer='Adam', metrics=['accuracy'])\n",
    "    model.fit(X_train,y_train, batch_size=128, epochs=epochs, validation_data=(X_test, y_test), \n",
    "              class_weight=class_weights)\n",
    "    # Predict\n",
    "    predict_cls = model.predict_classes(X_test)\n",
    "    predict_cls_transform = le.inverse_transform(predict_cls)\n",
    "    y_test_fact = le.inverse_transform(np.argmax(y_test, axis=1))\n",
    "    result_metrics_nn(predict_cls_transform, y_test_fact, name=name_file, savefile=save_file)\n",
    "    return model, word2index, le, class_weights"
   ]
  },
  {
   "cell_type": "code",
   "execution_count": null,
   "metadata": {},
   "outputs": [],
   "source": []
  },
  {
   "cell_type": "markdown",
   "metadata": {},
   "source": [
    "### Обучение первого уровня"
   ]
  },
  {
   "cell_type": "code",
   "execution_count": 335,
   "metadata": {
    "scrolled": true
   },
   "outputs": [
    {
     "data": {
      "text/plain": [
       "15     16212\n",
       "0       2234\n",
       "1          7\n",
       "           2\n",
       "26         1\n",
       "3          1\n",
       "5          1\n",
       "nan        1\n",
       "16         1\n",
       "Name: label_first, dtype: int64"
      ]
     },
     "execution_count": 335,
     "metadata": {},
     "output_type": "execute_result"
    }
   ],
   "source": [
    "labels = data.label.str.split('.').dropna()\n",
    "firstLayerLabel = []\n",
    "for label, idx in zip(labels, labels.index):\n",
    "    first = label[0]\n",
    "    if (first == '015') or (first == '15, 15') or (first == '51') or (first == '115') or (first == '156'):\n",
    "        first = '15'\n",
    "    firstLayerLabel.append(first)\n",
    "data['label_first'] = firstLayerLabel\n",
    "data['label_first'].value_counts()"
   ]
  },
  {
   "cell_type": "code",
   "execution_count": 336,
   "metadata": {
    "scrolled": true
   },
   "outputs": [],
   "source": [
    "dataForFirstModel = data[(data['label_first'] == '15') | (data['label_first'] == '0')]\n",
    "dataForFirstModel = dataForFirstModel[['requests', 'label_first']]\n",
    "dataForFirstModel.columns = ['text', 'target']\n",
    "level_1.columns = ['text', 'target']\n",
    "dataForFirstModel = pd.concat([dataForFirstModel, level_1])\n",
    "dataForFirstModel.index = range(dataForFirstModel.shape[0])\n",
    "dataForFirstModel['target'] = dataForFirstModel.target.astype(int)"
   ]
  },
  {
   "cell_type": "code",
   "execution_count": 337,
   "metadata": {},
   "outputs": [],
   "source": [
    "X_train_convert, X_test_convert, y_train, y_test, word2index, le, class_weights = get_train_test_data(dataForFirstModel,\n",
    "                                                                                                      2)"
   ]
  },
  {
   "cell_type": "code",
   "execution_count": 345,
   "metadata": {},
   "outputs": [],
   "source": [
    "X_train, X_test, y_train, y_test =  train_test_split(dataForFirstModel.text, dataForFirstModel.target)"
   ]
  },
  {
   "cell_type": "code",
   "execution_count": 346,
   "metadata": {
    "scrolled": true
   },
   "outputs": [
    {
     "ename": "KeyboardInterrupt",
     "evalue": "",
     "output_type": "error",
     "traceback": [
      "\u001b[0;31m---------------------------------------------------------------------------\u001b[0m",
      "\u001b[0;31mKeyboardInterrupt\u001b[0m                         Traceback (most recent call last)",
      "\u001b[0;32m<ipython-input-346-bf073b5ce569>\u001b[0m in \u001b[0;36m<module>\u001b[0;34m\u001b[0m\n\u001b[1;32m      2\u001b[0m \u001b[0;34m\u001b[0m\u001b[0m\n\u001b[1;32m      3\u001b[0m \u001b[0mmodel_path\u001b[0m \u001b[0;34m=\u001b[0m \u001b[0;34m'rubert_cased_L-12_H-768_A-12_v2'\u001b[0m\u001b[0;34m\u001b[0m\u001b[0;34m\u001b[0m\u001b[0m\n\u001b[0;32m----> 4\u001b[0;31m \u001b[0membeddings\u001b[0m \u001b[0;34m=\u001b[0m \u001b[0mextract_embeddings\u001b[0m\u001b[0;34m(\u001b[0m\u001b[0mmodel_path\u001b[0m\u001b[0;34m,\u001b[0m \u001b[0mX_train\u001b[0m\u001b[0;34m)\u001b[0m\u001b[0;34m\u001b[0m\u001b[0;34m\u001b[0m\u001b[0m\n\u001b[0m",
      "\u001b[0;32m/usr/local/lib/python3.7/site-packages/keras_bert/util.py\u001b[0m in \u001b[0;36mextract_embeddings\u001b[0;34m(model, texts, poolings, vocabs, cased, batch_size, cut_embed, output_layer_num)\u001b[0m\n\u001b[1;32m    145\u001b[0m     \"\"\"\n\u001b[1;32m    146\u001b[0m     return [embedding for embedding in extract_embeddings_generator(\n\u001b[0;32m--> 147\u001b[0;31m         \u001b[0mmodel\u001b[0m\u001b[0;34m,\u001b[0m \u001b[0mtexts\u001b[0m\u001b[0;34m,\u001b[0m \u001b[0mpoolings\u001b[0m\u001b[0;34m,\u001b[0m \u001b[0mvocabs\u001b[0m\u001b[0;34m,\u001b[0m \u001b[0mcased\u001b[0m\u001b[0;34m,\u001b[0m \u001b[0mbatch_size\u001b[0m\u001b[0;34m,\u001b[0m \u001b[0mcut_embed\u001b[0m\u001b[0;34m,\u001b[0m \u001b[0moutput_layer_num\u001b[0m\u001b[0;34m\u001b[0m\u001b[0;34m\u001b[0m\u001b[0m\n\u001b[0m\u001b[1;32m    148\u001b[0m     )]\n",
      "\u001b[0;32m/usr/local/lib/python3.7/site-packages/keras_bert/util.py\u001b[0m in \u001b[0;36m<listcomp>\u001b[0;34m(.0)\u001b[0m\n\u001b[1;32m    144\u001b[0m     \u001b[0;34m:\u001b[0m\u001b[0;32mreturn\u001b[0m\u001b[0;34m:\u001b[0m \u001b[0mA\u001b[0m \u001b[0mlist\u001b[0m \u001b[0mof\u001b[0m \u001b[0mnumpy\u001b[0m \u001b[0marrays\u001b[0m \u001b[0mrepresenting\u001b[0m \u001b[0mthe\u001b[0m \u001b[0membeddings\u001b[0m\u001b[0;34m.\u001b[0m\u001b[0;34m\u001b[0m\u001b[0;34m\u001b[0m\u001b[0m\n\u001b[1;32m    145\u001b[0m     \"\"\"\n\u001b[0;32m--> 146\u001b[0;31m     return [embedding for embedding in extract_embeddings_generator(\n\u001b[0m\u001b[1;32m    147\u001b[0m         \u001b[0mmodel\u001b[0m\u001b[0;34m,\u001b[0m \u001b[0mtexts\u001b[0m\u001b[0;34m,\u001b[0m \u001b[0mpoolings\u001b[0m\u001b[0;34m,\u001b[0m \u001b[0mvocabs\u001b[0m\u001b[0;34m,\u001b[0m \u001b[0mcased\u001b[0m\u001b[0;34m,\u001b[0m \u001b[0mbatch_size\u001b[0m\u001b[0;34m,\u001b[0m \u001b[0mcut_embed\u001b[0m\u001b[0;34m,\u001b[0m \u001b[0moutput_layer_num\u001b[0m\u001b[0;34m\u001b[0m\u001b[0;34m\u001b[0m\u001b[0m\n\u001b[1;32m    148\u001b[0m     )]\n",
      "\u001b[0;32m/usr/local/lib/python3.7/site-packages/keras_bert/util.py\u001b[0m in \u001b[0;36mextract_embeddings_generator\u001b[0;34m(model, texts, poolings, vocabs, cased, batch_size, cut_embed, output_layer_num)\u001b[0m\n\u001b[1;32m    110\u001b[0m \u001b[0;34m\u001b[0m\u001b[0m\n\u001b[1;32m    111\u001b[0m     \u001b[0;32mfor\u001b[0m \u001b[0mbatch_inputs\u001b[0m \u001b[0;32min\u001b[0m \u001b[0m_batch_generator\u001b[0m\u001b[0;34m(\u001b[0m\u001b[0;34m)\u001b[0m\u001b[0;34m:\u001b[0m\u001b[0;34m\u001b[0m\u001b[0;34m\u001b[0m\u001b[0m\n\u001b[0;32m--> 112\u001b[0;31m         \u001b[0moutputs\u001b[0m \u001b[0;34m=\u001b[0m \u001b[0mmodel\u001b[0m\u001b[0;34m.\u001b[0m\u001b[0mpredict\u001b[0m\u001b[0;34m(\u001b[0m\u001b[0mbatch_inputs\u001b[0m\u001b[0;34m)\u001b[0m\u001b[0;34m\u001b[0m\u001b[0;34m\u001b[0m\u001b[0m\n\u001b[0m\u001b[1;32m    113\u001b[0m         \u001b[0;32mfor\u001b[0m \u001b[0minputs\u001b[0m\u001b[0;34m,\u001b[0m \u001b[0moutput\u001b[0m \u001b[0;32min\u001b[0m \u001b[0mzip\u001b[0m\u001b[0;34m(\u001b[0m\u001b[0mbatch_inputs\u001b[0m\u001b[0;34m[\u001b[0m\u001b[0;36m0\u001b[0m\u001b[0;34m]\u001b[0m\u001b[0;34m,\u001b[0m \u001b[0moutputs\u001b[0m\u001b[0;34m)\u001b[0m\u001b[0;34m:\u001b[0m\u001b[0;34m\u001b[0m\u001b[0;34m\u001b[0m\u001b[0m\n\u001b[1;32m    114\u001b[0m             \u001b[0;32mif\u001b[0m \u001b[0mpoolings\u001b[0m \u001b[0;32mis\u001b[0m \u001b[0;32mNone\u001b[0m \u001b[0;32mand\u001b[0m \u001b[0mcut_embed\u001b[0m\u001b[0;34m:\u001b[0m\u001b[0;34m\u001b[0m\u001b[0;34m\u001b[0m\u001b[0m\n",
      "\u001b[0;32m/usr/local/lib/python3.7/site-packages/keras/engine/training.py\u001b[0m in \u001b[0;36mpredict\u001b[0;34m(self, x, batch_size, verbose, steps, callbacks, max_queue_size, workers, use_multiprocessing)\u001b[0m\n\u001b[1;32m   1460\u001b[0m             \u001b[0mthe\u001b[0m \u001b[0mdisplay\u001b[0m \u001b[0mlabels\u001b[0m \u001b[0;32mfor\u001b[0m \u001b[0mthe\u001b[0m \u001b[0mscalar\u001b[0m \u001b[0moutputs\u001b[0m\u001b[0;34m.\u001b[0m\u001b[0;34m\u001b[0m\u001b[0;34m\u001b[0m\u001b[0m\n\u001b[1;32m   1461\u001b[0m \u001b[0;34m\u001b[0m\u001b[0m\n\u001b[0;32m-> 1462\u001b[0;31m         \u001b[0;31m# Raises\u001b[0m\u001b[0;34m\u001b[0m\u001b[0;34m\u001b[0m\u001b[0;34m\u001b[0m\u001b[0m\n\u001b[0m\u001b[1;32m   1463\u001b[0m             \u001b[0mValueError\u001b[0m\u001b[0;34m:\u001b[0m \u001b[0mIn\u001b[0m \u001b[0mcase\u001b[0m \u001b[0mthe\u001b[0m \u001b[0mgenerator\u001b[0m \u001b[0myields\u001b[0m\u001b[0;34m\u001b[0m\u001b[0;34m\u001b[0m\u001b[0m\n\u001b[1;32m   1464\u001b[0m                 \u001b[0mdata\u001b[0m \u001b[0;32min\u001b[0m \u001b[0man\u001b[0m \u001b[0minvalid\u001b[0m \u001b[0mformat\u001b[0m\u001b[0;34m.\u001b[0m\u001b[0;34m\u001b[0m\u001b[0;34m\u001b[0m\u001b[0m\n",
      "\u001b[0;32m/usr/local/lib/python3.7/site-packages/keras/engine/training_arrays.py\u001b[0m in \u001b[0;36mpredict_loop\u001b[0;34m(model, f, ins, batch_size, verbose, steps, callbacks)\u001b[0m\n\u001b[1;32m    322\u001b[0m         \u001b[0mScalar\u001b[0m \u001b[0mloss\u001b[0m \u001b[0;34m(\u001b[0m\u001b[0;32mif\u001b[0m \u001b[0mthe\u001b[0m \u001b[0mmodel\u001b[0m \u001b[0mhas\u001b[0m \u001b[0ma\u001b[0m \u001b[0msingle\u001b[0m \u001b[0moutput\u001b[0m \u001b[0;32mand\u001b[0m \u001b[0mno\u001b[0m \u001b[0mmetrics\u001b[0m\u001b[0;34m)\u001b[0m\u001b[0;34m\u001b[0m\u001b[0;34m\u001b[0m\u001b[0m\n\u001b[1;32m    323\u001b[0m         or list of scalars (if the model has multiple outputs\n\u001b[0;32m--> 324\u001b[0;31m         and/or metrics). The attribute `model.metrics_names` will give you\n\u001b[0m\u001b[1;32m    325\u001b[0m         \u001b[0mthe\u001b[0m \u001b[0mdisplay\u001b[0m \u001b[0mlabels\u001b[0m \u001b[0;32mfor\u001b[0m \u001b[0mthe\u001b[0m \u001b[0mscalar\u001b[0m \u001b[0moutputs\u001b[0m\u001b[0;34m.\u001b[0m\u001b[0;34m\u001b[0m\u001b[0;34m\u001b[0m\u001b[0m\n\u001b[1;32m    326\u001b[0m     \"\"\"\n",
      "\u001b[0;32m/usr/local/lib/python3.7/site-packages/tensorflow/python/keras/backend.py\u001b[0m in \u001b[0;36m__call__\u001b[0;34m(self, inputs)\u001b[0m\n\u001b[1;32m   3290\u001b[0m \u001b[0;34m\u001b[0m\u001b[0m\n\u001b[1;32m   3291\u001b[0m     fetched = self._callable_fn(*array_vals,\n\u001b[0;32m-> 3292\u001b[0;31m                                 run_metadata=self.run_metadata)\n\u001b[0m\u001b[1;32m   3293\u001b[0m     \u001b[0mself\u001b[0m\u001b[0;34m.\u001b[0m\u001b[0m_call_fetch_callbacks\u001b[0m\u001b[0;34m(\u001b[0m\u001b[0mfetched\u001b[0m\u001b[0;34m[\u001b[0m\u001b[0;34m-\u001b[0m\u001b[0mlen\u001b[0m\u001b[0;34m(\u001b[0m\u001b[0mself\u001b[0m\u001b[0;34m.\u001b[0m\u001b[0m_fetches\u001b[0m\u001b[0;34m)\u001b[0m\u001b[0;34m:\u001b[0m\u001b[0;34m]\u001b[0m\u001b[0;34m)\u001b[0m\u001b[0;34m\u001b[0m\u001b[0;34m\u001b[0m\u001b[0m\n\u001b[1;32m   3294\u001b[0m     output_structure = nest.pack_sequence_as(\n",
      "\u001b[0;32m/usr/local/lib/python3.7/site-packages/tensorflow/python/client/session.py\u001b[0m in \u001b[0;36m__call__\u001b[0;34m(self, *args, **kwargs)\u001b[0m\n\u001b[1;32m   1456\u001b[0m         ret = tf_session.TF_SessionRunCallable(self._session._session,\n\u001b[1;32m   1457\u001b[0m                                                \u001b[0mself\u001b[0m\u001b[0;34m.\u001b[0m\u001b[0m_handle\u001b[0m\u001b[0;34m,\u001b[0m \u001b[0margs\u001b[0m\u001b[0;34m,\u001b[0m\u001b[0;34m\u001b[0m\u001b[0;34m\u001b[0m\u001b[0m\n\u001b[0;32m-> 1458\u001b[0;31m                                                run_metadata_ptr)\n\u001b[0m\u001b[1;32m   1459\u001b[0m         \u001b[0;32mif\u001b[0m \u001b[0mrun_metadata\u001b[0m\u001b[0;34m:\u001b[0m\u001b[0;34m\u001b[0m\u001b[0;34m\u001b[0m\u001b[0m\n\u001b[1;32m   1460\u001b[0m           \u001b[0mproto_data\u001b[0m \u001b[0;34m=\u001b[0m \u001b[0mtf_session\u001b[0m\u001b[0;34m.\u001b[0m\u001b[0mTF_GetBuffer\u001b[0m\u001b[0;34m(\u001b[0m\u001b[0mrun_metadata_ptr\u001b[0m\u001b[0;34m)\u001b[0m\u001b[0;34m\u001b[0m\u001b[0;34m\u001b[0m\u001b[0m\n",
      "\u001b[0;31mKeyboardInterrupt\u001b[0m: "
     ]
    }
   ],
   "source": [
    "from keras_bert import extract_embeddings\n",
    "\n",
    "model_path = 'rubert_cased_L-12_H-768_A-12_v2'\n",
    "embeddings = extract_embeddings(model_path, X_train)"
   ]
  },
  {
   "cell_type": "code",
   "execution_count": 348,
   "metadata": {},
   "outputs": [
    {
     "data": {
      "text/plain": [
       "128.0"
      ]
     },
     "execution_count": 348,
     "metadata": {},
     "output_type": "execute_result"
    }
   ],
   "source": [
    "8192/64"
   ]
  },
  {
   "cell_type": "code",
   "execution_count": null,
   "metadata": {},
   "outputs": [],
   "source": [
    "from keras.layers import Embedding\n",
    "\n",
    "embedding_layer = Embedding(len(word_index) + 1,\n",
    "                            EMBEDDING_DIM,\n",
    "                            weights=[embedding_matrix],\n",
    "                            input_length=MAX_SEQUENCE_LENGTH,\n",
    "                            trainable=False)"
   ]
  },
  {
   "cell_type": "code",
   "execution_count": 217,
   "metadata": {},
   "outputs": [],
   "source": [
    "class_weights[0] += 1"
   ]
  },
  {
   "cell_type": "code",
   "execution_count": null,
   "metadata": {},
   "outputs": [],
   "source": []
  },
  {
   "cell_type": "code",
   "execution_count": 341,
   "metadata": {},
   "outputs": [
    {
     "name": "stdout",
     "output_type": "stream",
     "text": [
      "Model: \"sequential_40\"\n",
      "_________________________________________________________________\n",
      "Layer (type)                 Output Shape              Param #   \n",
      "=================================================================\n",
      "embedding_40 (Embedding)     (None, 64, 256)           4212992   \n",
      "_________________________________________________________________\n",
      "conv1d_31 (Conv1D)           (None, 30, 128)           163968    \n",
      "_________________________________________________________________\n",
      "global_max_pooling1d_40 (Glo (None, 128)               0         \n",
      "_________________________________________________________________\n",
      "dense_139 (Dense)            (None, 20)                2580      \n",
      "_________________________________________________________________\n",
      "dense_140 (Dense)            (None, 10)                210       \n",
      "_________________________________________________________________\n",
      "dense_141 (Dense)            (None, 2)                 22        \n",
      "=================================================================\n",
      "Total params: 4,379,772\n",
      "Trainable params: 4,379,772\n",
      "Non-trainable params: 0\n",
      "_________________________________________________________________\n"
     ]
    }
   ],
   "source": [
    "model1 = model_cnn(X_train_convert.shape[1], word2index, output_dim=256, num_classes=2)\n",
    "model1.summary()"
   ]
  },
  {
   "cell_type": "code",
   "execution_count": 342,
   "metadata": {
    "scrolled": true
   },
   "outputs": [
    {
     "name": "stdout",
     "output_type": "stream",
     "text": [
      "Train on 18510 samples, validate on 7933 samples\n",
      "Epoch 1/10\n",
      "18510/18510 [==============================] - 21s 1ms/step - loss: 0.1013 - accuracy: 0.7939 - val_loss: 0.4047 - val_accuracy: 0.8671\n",
      "Epoch 2/10\n",
      "18510/18510 [==============================] - 20s 1ms/step - loss: 0.0648 - accuracy: 0.9025 - val_loss: 0.2800 - val_accuracy: 0.9014\n",
      "Epoch 3/10\n",
      "18510/18510 [==============================] - 22s 1ms/step - loss: 0.0439 - accuracy: 0.9335 - val_loss: 0.4176 - val_accuracy: 0.8520\n",
      "Epoch 4/10\n",
      "18510/18510 [==============================] - 22s 1ms/step - loss: 0.0296 - accuracy: 0.9507 - val_loss: 0.3935 - val_accuracy: 0.8661\n",
      "Epoch 5/10\n",
      "18510/18510 [==============================] - 23s 1ms/step - loss: 0.0204 - accuracy: 0.9663 - val_loss: 0.4083 - val_accuracy: 0.8596\n",
      "Epoch 6/10\n",
      "18510/18510 [==============================] - 19s 1ms/step - loss: 0.0159 - accuracy: 0.9728 - val_loss: 0.3568 - val_accuracy: 0.8906\n",
      "Epoch 7/10\n",
      "18510/18510 [==============================] - 22s 1ms/step - loss: 0.0136 - accuracy: 0.9756 - val_loss: 0.4165 - val_accuracy: 0.8839\n",
      "Epoch 8/10\n",
      "18510/18510 [==============================] - 23s 1ms/step - loss: 0.0116 - accuracy: 0.9788 - val_loss: 0.4531 - val_accuracy: 0.8800\n",
      "Epoch 9/10\n",
      "18510/18510 [==============================] - 26s 1ms/step - loss: 0.0112 - accuracy: 0.9794 - val_loss: 0.4439 - val_accuracy: 0.8791\n",
      "Epoch 10/10\n",
      "18510/18510 [==============================] - 22s 1ms/step - loss: 0.0100 - accuracy: 0.9812 - val_loss: 0.4438 - val_accuracy: 0.8906\n"
     ]
    }
   ],
   "source": [
    "model1.compile(loss='binary_crossentropy', optimizer='Adam', metrics=['accuracy'])\n",
    "history = model1.fit(X_train_convert,y_train, batch_size=256, epochs=10,\n",
    "           validation_data=(X_test_convert, y_test), class_weight=class_weights)"
   ]
  },
  {
   "cell_type": "code",
   "execution_count": 340,
   "metadata": {},
   "outputs": [
    {
     "data": {
      "image/png": "[encoded data removed]",
      "text/plain": [
       "<Figure size 432x288 with 1 Axes>"
      ]
     },
     "metadata": {
      "needs_background": "light"
     },
     "output_type": "display_data"
    }
   ],
   "source": [
    "plt.plot(range(len(history.history[\"loss\"])), history.history[\"loss\"])\n",
    "plt.plot(range(len(history.history[\"val_loss\"])), history.history[\"val_loss\"])\n",
    "plt.show()"
   ]
  },
  {
   "cell_type": "code",
   "execution_count": 251,
   "metadata": {
    "scrolled": true
   },
   "outputs": [
    {
     "name": "stdout",
     "output_type": "stream",
     "text": [
      "Класс_0 F1 = 0.5019646365422397\n",
      "Класс_15 F1 = 0.9266811279826463\n",
      "Средняя F1 для каждого класса = 0.714322882262443\n",
      "Confusion matrix, without normalization\n",
      "Normalized confusion matrix\n"
     ]
    },
    {
     "data": {
      "image/png": "[encoded data removed]",
      "text/plain": [
       "<Figure size 720x720 with 2 Axes>"
      ]
     },
     "metadata": {
      "needs_background": "light"
     },
     "output_type": "display_data"
    },
    {
     "data": {
      "image/png": "[encoded data removed]",
      "text/plain": [
       "<Figure size 720x720 with 2 Axes>"
      ]
     },
     "metadata": {
      "needs_background": "light"
     },
     "output_type": "display_data"
    },
    {
     "data": {
      "text/plain": [
       "array([[ 511,  364],\n",
       "       [ 650, 6408]])"
      ]
     },
     "execution_count": 251,
     "metadata": {},
     "output_type": "execute_result"
    }
   ],
   "source": [
    "predict_cls = model1.predict_classes(X_test_convert)\n",
    "predict_cls_transform = le.inverse_transform(predict_cls)\n",
    "y_test_ot_fact = le.inverse_transform(np.argmax(y_test, axis=1))\n",
    "result_metrics_nn(predict_cls_transform, y_test_ot_fact, './newModels/charts/level_1.png', savefile=False)"
   ]
  },
  {
   "cell_type": "code",
   "execution_count": 221,
   "metadata": {},
   "outputs": [],
   "source": [
    "model1.save(\"./models/level_1/model.h5\")\n",
    "with open('./models/level_1/word2index.pickle', 'wb') as f:\n",
    "    pickle.dump(word2index, f, pickle.HIGHEST_PROTOCOL)\n",
    "np.save('./models/level_1/classes.npy', le.classes_)"
   ]
  },
  {
   "cell_type": "markdown",
   "metadata": {},
   "source": [
    "### Обучение второго уровня"
   ]
  },
  {
   "cell_type": "code",
   "execution_count": null,
   "metadata": {},
   "outputs": [],
   "source": []
  },
  {
   "cell_type": "code",
   "execution_count": 258,
   "metadata": {},
   "outputs": [],
   "source": [
    "dataSecond = data[(data['label_first'] == '15') & (data['label'] != '15')]\n",
    "labelsSecond = dataSecond.label.str.split('.').dropna()\n",
    "secondLayerLabel = []\n",
    "for label, idx in zip(labelsSecond, labelsSecond.index):\n",
    "    if len(label) > 1:\n",
    "        if (label[1] == '1, 15') or (label[1] == '2, 15') or (label[1] == '6,15') or (label[1] == '3, 15'):\n",
    "            secondLayerLabel.append(label[1].split(',')[0])\n",
    "        elif (len(label[1]) == 2):\n",
    "            secondLayerLabel.append(label[1][0])\n",
    "        else:\n",
    "            secondLayerLabel.append(label[1])\n",
    "    else:\n",
    "        print(label)\n",
    "        secondLayerLabel.append('ERR')\n",
    "dataSecond['label_second'] = secondLayerLabel\n",
    "dataSecond = dataSecond[dataSecond['label_second'] != '']"
   ]
  },
  {
   "cell_type": "code",
   "execution_count": 259,
   "metadata": {},
   "outputs": [],
   "source": [
    "dataForSecondModel = dataSecond[(dataSecond['label_second'] != '5') & (dataSecond['label_second'] != '4')]\n",
    "dataForSecondModel = dataForSecondModel[['requests', 'label_second']]\n",
    "dataForSecondModel.columns = ['text', 'target']"
   ]
  },
  {
   "cell_type": "code",
   "execution_count": 260,
   "metadata": {},
   "outputs": [],
   "source": [
    "level_2.columns = ['text', 'target']"
   ]
  },
  {
   "cell_type": "code",
   "execution_count": 261,
   "metadata": {},
   "outputs": [],
   "source": [
    "dataForSecondModel = pd.concat([dataForSecondModel, level_2])"
   ]
  },
  {
   "cell_type": "code",
   "execution_count": 262,
   "metadata": {},
   "outputs": [
    {
     "data": {
      "text/plain": [
       "(15808, 2)"
      ]
     },
     "execution_count": 262,
     "metadata": {},
     "output_type": "execute_result"
    }
   ],
   "source": [
    "dataForSecondModel.shape"
   ]
  },
  {
   "cell_type": "code",
   "execution_count": 263,
   "metadata": {},
   "outputs": [],
   "source": [
    "def changeMetka(x):\n",
    "    if '.' not in x:\n",
    "        return \"15.\" + str(x)\n",
    "    return x\n",
    "dataForSecondModel['target'] = dataForSecondModel.target.apply(changeMetka)"
   ]
  },
  {
   "cell_type": "code",
   "execution_count": 264,
   "metadata": {},
   "outputs": [
    {
     "data": {
      "text/plain": [
       "15.6    10635\n",
       "15.3     2194\n",
       "15.1     2151\n",
       "15.2      828\n",
       "Name: target, dtype: int64"
      ]
     },
     "execution_count": 264,
     "metadata": {},
     "output_type": "execute_result"
    }
   ],
   "source": [
    "dataForSecondModel['target'].value_counts()"
   ]
  },
  {
   "cell_type": "code",
   "execution_count": 316,
   "metadata": {},
   "outputs": [],
   "source": [
    "X_train_convert2, X_test_convert2, y_train2, y_test2, word2index2, le2, class_weight = get_train_test_data(dataForSecondModel, 4)\n",
    "\n"
   ]
  },
  {
   "cell_type": "code",
   "execution_count": 317,
   "metadata": {},
   "outputs": [],
   "source": [
    "class_weight[0] += 1\n",
    "class_weight[1] += 1\n",
    "class_weight[2] += 1"
   ]
  },
  {
   "cell_type": "code",
   "execution_count": 318,
   "metadata": {},
   "outputs": [
    {
     "data": {
      "text/plain": [
       "{0: 1.8639296558704452,\n",
       " 1: 1.9476214574898787,\n",
       " 2: 1.8612095141700404,\n",
       " 3: 0.32723937246963564}"
      ]
     },
     "execution_count": 318,
     "metadata": {},
     "output_type": "execute_result"
    }
   ],
   "source": [
    "class_weight"
   ]
  },
  {
   "cell_type": "code",
   "execution_count": 321,
   "metadata": {},
   "outputs": [
    {
     "name": "stdout",
     "output_type": "stream",
     "text": [
      "Model: \"sequential_38\"\n",
      "_________________________________________________________________\n",
      "Layer (type)                 Output Shape              Param #   \n",
      "=================================================================\n",
      "embedding_38 (Embedding)     (None, 64, 256)           3123968   \n",
      "_________________________________________________________________\n",
      "conv1d_29 (Conv1D)           (None, 30, 128)           163968    \n",
      "_________________________________________________________________\n",
      "global_max_pooling1d_38 (Glo (None, 128)               0         \n",
      "_________________________________________________________________\n",
      "dropout_85 (Dropout)         (None, 128)               0         \n",
      "_________________________________________________________________\n",
      "dense_131 (Dense)            (None, 100)               12900     \n",
      "_________________________________________________________________\n",
      "dropout_86 (Dropout)         (None, 100)               0         \n",
      "_________________________________________________________________\n",
      "dense_132 (Dense)            (None, 50)                5050      \n",
      "_________________________________________________________________\n",
      "dropout_87 (Dropout)         (None, 50)                0         \n",
      "_________________________________________________________________\n",
      "dense_133 (Dense)            (None, 40)                2040      \n",
      "_________________________________________________________________\n",
      "dropout_88 (Dropout)         (None, 40)                0         \n",
      "_________________________________________________________________\n",
      "dense_134 (Dense)            (None, 10)                410       \n",
      "_________________________________________________________________\n",
      "dense_135 (Dense)            (None, 4)                 44        \n",
      "=================================================================\n",
      "Total params: 3,308,380\n",
      "Trainable params: 3,308,380\n",
      "Non-trainable params: 0\n",
      "_________________________________________________________________\n"
     ]
    }
   ],
   "source": [
    "model2 = model_cnn(X_train_convert2.shape[1], word2index2, output_dim=256, num_classes=4)\n",
    "model2.summary()"
   ]
  },
  {
   "cell_type": "code",
   "execution_count": 325,
   "metadata": {
    "scrolled": true
   },
   "outputs": [
    {
     "name": "stdout",
     "output_type": "stream",
     "text": [
      "Train on 11065 samples, validate on 4743 samples\n",
      "Epoch 1/10\n",
      "11065/11065 [==============================] - 11s 983us/step - loss: 0.3516 - accuracy: 0.9338 - val_loss: 1.1035 - val_accuracy: 0.8691\n",
      "Epoch 2/10\n",
      "11065/11065 [==============================] - 8s 762us/step - loss: 0.3205 - accuracy: 0.9394 - val_loss: 1.1689 - val_accuracy: 0.8716\n",
      "Epoch 3/10\n",
      "11065/11065 [==============================] - 9s 777us/step - loss: 0.3028 - accuracy: 0.9431 - val_loss: 1.0955 - val_accuracy: 0.8710\n",
      "Epoch 4/10\n",
      "11065/11065 [==============================] - 8s 764us/step - loss: 0.2911 - accuracy: 0.9470 - val_loss: 1.2896 - val_accuracy: 0.8680\n",
      "Epoch 5/10\n",
      "11065/11065 [==============================] - 9s 769us/step - loss: 0.2963 - accuracy: 0.9456 - val_loss: 1.2863 - val_accuracy: 0.8705\n",
      "Epoch 6/10\n",
      "11065/11065 [==============================] - 8s 762us/step - loss: 0.2965 - accuracy: 0.9426 - val_loss: 1.1896 - val_accuracy: 0.8695\n",
      "Epoch 7/10\n",
      "11065/11065 [==============================] - 9s 770us/step - loss: 0.2783 - accuracy: 0.9511 - val_loss: 1.4080 - val_accuracy: 0.8627\n",
      "Epoch 8/10\n",
      "11065/11065 [==============================] - 10s 869us/step - loss: 0.2676 - accuracy: 0.9516 - val_loss: 1.3843 - val_accuracy: 0.8691\n",
      "Epoch 9/10\n",
      "11065/11065 [==============================] - 9s 807us/step - loss: 0.2700 - accuracy: 0.9552 - val_loss: 1.1445 - val_accuracy: 0.8682\n",
      "Epoch 10/10\n",
      "11065/11065 [==============================] - 9s 824us/step - loss: 0.2460 - accuracy: 0.9542 - val_loss: 1.5502 - val_accuracy: 0.8710\n"
     ]
    },
    {
     "data": {
      "text/plain": [
       "<keras.callbacks.callbacks.History at 0x1d2602fd0>"
      ]
     },
     "execution_count": 325,
     "metadata": {},
     "output_type": "execute_result"
    }
   ],
   "source": [
    "model2.compile(loss='categorical_crossentropy', optimizer='Adam', metrics=['accuracy'])\n",
    "model2.fit(X_train_convert2,y_train2, batch_size=256, epochs=10, \n",
    "           validation_data=(X_test_convert2, y_test2), class_weight=class_weight)"
   ]
  },
  {
   "cell_type": "code",
   "execution_count": 326,
   "metadata": {
    "scrolled": true
   },
   "outputs": [
    {
     "name": "stdout",
     "output_type": "stream",
     "text": [
      "Класс_15.1 F1 = 0.7705977382875606\n",
      "Класс_15.2 F1 = 0.37500000000000006\n",
      "Класс_15.3 F1 = 0.7724945135332846\n",
      "Класс_15.6 F1 = 0.9543948240492346\n",
      "Средняя F1 для каждого класса = 0.7181217689675199\n",
      "Confusion matrix, without normalization\n",
      "Normalized confusion matrix\n"
     ]
    },
    {
     "data": {
      "image/png": "[encoded data removed]",
      "text/plain": [
       "<Figure size 720x720 with 2 Axes>"
      ]
     },
     "metadata": {
      "needs_background": "light"
     },
     "output_type": "display_data"
    },
    {
     "data": {
      "image/png": "[encoded data removed]",
      "text/plain": [
       "<Figure size 720x720 with 2 Axes>"
      ]
     },
     "metadata": {
      "needs_background": "light"
     },
     "output_type": "display_data"
    },
    {
     "data": {
      "text/plain": [
       "array([[ 477,   37,   67,   52],\n",
       "       [  36,  102,   64,   31],\n",
       "       [  52,   67,  528,   24],\n",
       "       [  40,  105,   37, 3024]])"
      ]
     },
     "execution_count": 326,
     "metadata": {},
     "output_type": "execute_result"
    }
   ],
   "source": [
    "predict_cls = model2.predict_classes(X_test_convert2)\n",
    "predict_cls_transform = le2.inverse_transform(predict_cls)\n",
    "y_test_ot_fact = le2.inverse_transform(np.argmax(y_test2, axis=1))\n",
    "result_metrics_nn(predict_cls_transform, y_test_ot_fact, './newModels/charts/level_2.png', savefile=False)"
   ]
  },
  {
   "cell_type": "code",
   "execution_count": 228,
   "metadata": {
    "scrolled": true
   },
   "outputs": [],
   "source": [
    "model2.save(\"./models/level_2/model.h5\")\n",
    "with open('./models/level_2/word2index.pickle', 'wb') as f:\n",
    "    pickle.dump(word2index2, f, pickle.HIGHEST_PROTOCOL)\n",
    "np.save('./models/level_2/classes.npy', le2.classes_)"
   ]
  },
  {
   "cell_type": "markdown",
   "metadata": {},
   "source": [
    "### Прочее обучение"
   ]
  },
  {
   "cell_type": "code",
   "execution_count": 351,
   "metadata": {},
   "outputs": [],
   "source": [
    "from keras.models import load_model\n",
    "\n",
    "model1 = load_model(\"../restAPI/models/level_1/model.h5\")\n",
    "model2 = load_model(\"../restAPI/models/level_2/model.h5\")"
   ]
  },
  {
   "cell_type": "code",
   "execution_count": 365,
   "metadata": {},
   "outputs": [],
   "source": [
    "with open(\"../restAPI/models/level_1/word2index.pickle\", 'rb') as handle:\n",
    "    word2index1 = pickle.load(handle)\n",
    "with open(\"../restAPI/models/level_2/word2index.pickle\", 'rb') as handle:\n",
    "    word2index2 = pickle.load(handle)"
   ]
  },
  {
   "cell_type": "code",
   "execution_count": 352,
   "metadata": {},
   "outputs": [],
   "source": [
    "from keras.layers import Concatenate, Average, Input\n",
    "from sklearn.neighbors import NearestNeighbors"
   ]
  },
  {
   "cell_type": "code",
   "execution_count": 353,
   "metadata": {},
   "outputs": [],
   "source": [
    "dataSecond_1 = dataSecond[(dataSecond['label_second'] == '1') & (dataSecond['label_first'] == '15')]\n",
    "dataSecond_2 = dataSecond[(dataSecond['label_second'] == '2') & (dataSecond['label_first'] == '15')]\n",
    "dataSecond_3 = dataSecond[(dataSecond['label_second'] == '3') & (dataSecond['label_first'] == '15')]\n",
    "dataSecond_6 = dataSecond[(dataSecond['label_second'] == '6') & (dataSecond['label_first'] == '15')]"
   ]
  },
  {
   "cell_type": "code",
   "execution_count": 354,
   "metadata": {},
   "outputs": [
    {
     "data": {
      "text/plain": [
       "'ек асутр ксотп помощь вводе мероприятий устранению замечаний контрольного листа'"
      ]
     },
     "execution_count": 354,
     "metadata": {},
     "output_type": "execute_result"
    }
   ],
   "source": [
    "dataSecond_3.requests.values[22]"
   ]
  },
  {
   "cell_type": "code",
   "execution_count": 358,
   "metadata": {},
   "outputs": [],
   "source": [
    "newDict = {'5': '0.8', '5.1': '0.78', '.5': '0.78', '1.2': '0.78'}"
   ]
  },
  {
   "cell_type": "code",
   "execution_count": 359,
   "metadata": {},
   "outputs": [],
   "source": [
    "dictLevel_3 = dict()\n",
    "dictLevel_4 = dict()\n",
    "for k, item in newDict.items():\n",
    "    currListKey = k.split(\".\")\n",
    "    currItem = item\n",
    "    if len(currListKey[0]) == 0:\n",
    "        continue\n",
    "    if (len(currListKey) >= 1):\n",
    "        if (currListKey[0] in dictLevel_3.keys()) and (dictLevel_3[currListKey[0]] > item):\n",
    "             currItem = dictLevel_3[currListKey[0]]\n",
    "        dictLevel_3[currListKey[0]] = currItem\n",
    "    if (len(currListKey) > 1) and (len(currListKey[-1]) != 0):\n",
    "        if (currListKey[-1] in dictLevel_4.keys()) and (dictLevel_4[currListKey[-1]] > item):\n",
    "            item = dictLevel_4[currListKey[-1]]\n",
    "        dictLevel_4[currListKey[-1]] = item\n"
   ]
  },
  {
   "cell_type": "code",
   "execution_count": 360,
   "metadata": {},
   "outputs": [
    {
     "data": {
      "text/plain": [
       "({}, {})"
      ]
     },
     "execution_count": 360,
     "metadata": {},
     "output_type": "execute_result"
    }
   ],
   "source": [
    "dictLevel_3, dictLevel_4"
   ]
  },
  {
   "cell_type": "code",
   "execution_count": 361,
   "metadata": {},
   "outputs": [],
   "source": [
    "dictDataSet = {\n",
    "    \"dataSecond_1\": dataSecond_1,\n",
    "    \"dataSecond_2\": dataSecond_2,\n",
    "    \"dataSecond_3\": dataSecond_3,\n",
    "    \"dataSecond_6\": dataSecond_6\n",
    "}"
   ]
  },
  {
   "cell_type": "code",
   "execution_count": 648,
   "metadata": {
    "scrolled": true
   },
   "outputs": [],
   "source": [
    "# model, word2index, le, class_weights = trainmodel(dataSecond_1)"
   ]
  },
  {
   "cell_type": "code",
   "execution_count": 362,
   "metadata": {},
   "outputs": [],
   "source": [
    "model_curr_1 = Input(shape=(64,))\n",
    "x1 = model1.layers[0](model_curr_1)\n",
    "model_curr_2 = Input(shape=(64,))\n",
    "x2 = model2.layers[0](model_curr_2)\n",
    "average = Average()([x1, x2])\n",
    "model_output = Model(inputs=[model_curr_1, model_curr_2], outputs=average)"
   ]
  },
  {
   "cell_type": "code",
   "execution_count": 366,
   "metadata": {},
   "outputs": [],
   "source": [
    "def getCurrData(data, word2index1, word2index2):\n",
    "    data['OTHER_CLASS'] = data.label.apply(lambda x: 'ERR' if len(x.split('.')) <= 2 else x)\n",
    "    dataForNeigh = data[data['OTHER_CLASS'] != 'ERR'].dropna()\n",
    "    dataForNeigh['OTHER_CLASS'] = dataForNeigh['OTHER_CLASS'].apply(lambda x: x if len(x.split(',')) < 2 else 'ERR')\n",
    "    dataForNeigh = dataForNeigh[dataForNeigh['OTHER_CLASS'] != 'ERR']\n",
    "    data_new_1 = convert(dataForNeigh.requests.values, word2index1, 64)\n",
    "    data_new_2 = convert(dataForNeigh.requests.values, word2index2, 64)\n",
    "    dictValue = dict(zip(range(dataForNeigh['label'].shape[0]), dataForNeigh['label']))\n",
    "    return [data_new_1, data_new_2], dictValue"
   ]
  },
  {
   "cell_type": "code",
   "execution_count": 367,
   "metadata": {},
   "outputs": [
    {
     "data": {
      "text/plain": [
       "array([[0, 0, 0, 0, 0, 0, 0, 0, 0, 0, 0, 0, 0, 0, 0, 0, 0, 0, 0, 0, 0, 0,\n",
       "        0, 0, 0, 0, 0, 0, 0, 0, 0, 0, 0, 0, 0, 0, 0, 0, 0, 0, 0, 0, 0, 0,\n",
       "        0, 0, 0, 0, 0, 0, 0, 0, 0, 0, 0, 0, 0, 0, 0, 0, 0, 0, 0, 0]])"
      ]
     },
     "execution_count": 367,
     "metadata": {},
     "output_type": "execute_result"
    }
   ],
   "source": [
    "convert([\"ТЕСТОВЫЙ\"], word2index1, 64)"
   ]
  },
  {
   "cell_type": "code",
   "execution_count": 368,
   "metadata": {},
   "outputs": [],
   "source": [
    "def getNeight(data, model_aver):\n",
    "    predDataSet = model_aver.predict(data)\n",
    "    predDataSet = predDataSet.reshape(predDataSet.shape[0],  -1) \n",
    "    neigh = NearestNeighbors(10, 0.5, metric='cosine')\n",
    "    neigh.fit(predDataSet)\n",
    "    return neigh"
   ]
  },
  {
   "cell_type": "code",
   "execution_count": 369,
   "metadata": {},
   "outputs": [],
   "source": [
    "def trainMultiplyDataSet(dictDataSet, word2index1, word2index2, model_aver):\n",
    "    newDict = dict()\n",
    "    for k, item in dictDataSet.items():\n",
    "        data, dictValue = getCurrData(item, word2index1, word2index2)\n",
    "        neigh = getNeight(data, model_aver)\n",
    "        newDict[k] = {\"dictValue\": dictValue, \"cls\": neigh}          \n",
    "    return newDict"
   ]
  },
  {
   "cell_type": "code",
   "execution_count": 370,
   "metadata": {},
   "outputs": [],
   "source": [
    "resultDict = trainMultiplyDataSet(dictDataSet, word2index1, word2index2, model_output)"
   ]
  },
  {
   "cell_type": "code",
   "execution_count": 374,
   "metadata": {},
   "outputs": [],
   "source": [
    "for k, item in resultDict.items():\n",
    "    number_path = k.split('_')[1]\n",
    "    name_cls = \"neigh_cls\"\n",
    "    name_dict = \"dict_val\"\n",
    "    filename_cls = '../restAPI/models/neighs_cls/cls_%s/%s.joblib.pkl'%(number_path, name_cls)\n",
    "    filename_dict = '../restAPI/models/neighs_cls/cls_%s/%s.pickle'%(number_path, name_dict)\n",
    "    _ = joblib.dump(item['cls'], filename_cls, compress=9)\n",
    "    with open(filename_dict, 'wb') as handle:\n",
    "        pickle.dump(item['dictValue'], handle, protocol=pickle.HIGHEST_PROTOCOL)"
   ]
  },
  {
   "cell_type": "code",
   "execution_count": 668,
   "metadata": {},
   "outputs": [],
   "source": [
    "testCls = joblib.load(filename)\n",
    "with open('./restAPI/models/neighs_cls/test_dict.pickle', 'rb') as handle:\n",
    "    b = pickle.load(handle)"
   ]
  },
  {
   "cell_type": "code",
   "execution_count": 371,
   "metadata": {},
   "outputs": [],
   "source": [
    "def getLabelAndDistance(arr_for_predict, dictValue, model_output, neigh, number_neigh=10):\n",
    "    result_predict = model_output.predict([arr_for_predict, arr_for_predict])\n",
    "    result_predict = result_predict.reshape(result_predict.shape[0],  -1) \n",
    "    distance, index = neigh.kneighbors([result_predict[0]], number_neigh, return_distance=True)\n",
    "    dictResult = dict()\n",
    "    for i in range(len(index[0])):\n",
    "        key = dictValue[index[0][i]]\n",
    "        if key not in dictResult.keys():\n",
    "            dictResult[key] = [] \n",
    "        dictResult[key].append(1 - distance[0][i])\n",
    "    for key, item in dictResult.items():\n",
    "        dictResult[key] = sum(item)/len(item)\n",
    "    maximKey = max(dictResult, key=dictResult.get)\n",
    "    return maximKey, dictResult[maximKey]"
   ]
  },
  {
   "cell_type": "code",
   "execution_count": 646,
   "metadata": {
    "scrolled": true
   },
   "outputs": [],
   "source": [
    "output = getLabelAndDistance(data_new_2[32:33], dictValue, model_output, neigh)"
   ]
  },
  {
   "cell_type": "code",
   "execution_count": null,
   "metadata": {},
   "outputs": [],
   "source": []
  },
  {
   "cell_type": "code",
   "execution_count": null,
   "metadata": {},
   "outputs": [],
   "source": []
  },
  {
   "cell_type": "code",
   "execution_count": null,
   "metadata": {},
   "outputs": [],
   "source": []
  },
  {
   "cell_type": "code",
   "execution_count": null,
   "metadata": {},
   "outputs": [],
   "source": []
  },
  {
   "cell_type": "code",
   "execution_count": null,
   "metadata": {},
   "outputs": [],
   "source": []
  },
  {
   "cell_type": "code",
   "execution_count": null,
   "metadata": {},
   "outputs": [],
   "source": []
  },
  {
   "cell_type": "code",
   "execution_count": null,
   "metadata": {},
   "outputs": [],
   "source": []
  }
 ],
 "metadata": {
  "kernelspec": {
   "display_name": "Python 3",
   "language": "python",
   "name": "python3"
  },
  "language_info": {
   "codemirror_mode": {
    "name": "ipython",
    "version": 3
   },
   "file_extension": ".py",
   "mimetype": "text/x-python",
   "name": "python",
   "nbconvert_exporter": "python",
   "pygments_lexer": "ipython3",
   "version": "3.7.4"
  }
 },
 "nbformat": 4,
 "nbformat_minor": 2
}
